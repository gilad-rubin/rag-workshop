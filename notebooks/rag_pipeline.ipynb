{
 "cells": [
  {
   "cell_type": "code",
   "execution_count": 1,
   "metadata": {},
   "outputs": [],
   "source": [
    "from haystack import Pipeline\n",
    "from haystack.components.builders import PromptBuilder\n",
    "from haystack.components.embedders import (\n",
    "    SentenceTransformersDocumentEmbedder,\n",
    "    SentenceTransformersTextEmbedder,\n",
    ")\n",
    "from haystack.components.generators import OpenAIGenerator\n",
    "from haystack.components.retrievers.in_memory import InMemoryEmbeddingRetriever\n",
    "from haystack.components.writers import DocumentWriter\n",
    "from haystack.document_stores.in_memory import InMemoryDocumentStore\n",
    "from haystack.document_stores.types import DuplicatePolicy"
   ]
  },
  {
   "cell_type": "markdown",
   "metadata": {},
   "source": [
    "# Preparation\n",
    "\n",
    "### Setup the environment\n",
    "**Using UV** \n",
    "1. `uv sync`\n",
    "1. uv run jupyter lab notebooks/rag_pipeline.ipynb\n",
    "\n",
    "**Using Pip**\n",
    "1. install a python 3.12 environment using venv or conda e.g. `conda create -n environment-name python=3.12`\n",
    "1. activate the environment, e.g. `conda activate environment-name`\n",
    "1. `pip install -r requirements.txt`\n",
    "1. `jupyter lab notebooks/rag_pipeline.ipynb`"
   ]
  },
  {
   "cell_type": "markdown",
   "metadata": {},
   "source": [
    "### Setup the OpenAI API key\n",
    "1. rename `.env.example` to `.env` and **add your API key for OpenAI to the .env file using OPENAI_API_KEY=sk-...**"
   ]
  },
  {
   "cell_type": "markdown",
   "metadata": {},
   "source": [
    "\n",
    "### Run the notebook\n",
    "\n",
    "3. \"Run All!\""
   ]
  },
  {
   "cell_type": "markdown",
   "metadata": {},
   "source": [
    "## Ensure the OpenAI API key is set"
   ]
  },
  {
   "cell_type": "code",
   "execution_count": 2,
   "metadata": {},
   "outputs": [
    {
     "data": {
      "text/plain": [
       "True"
      ]
     },
     "execution_count": 2,
     "metadata": {},
     "output_type": "execute_result"
    }
   ],
   "source": [
    "from dotenv import load_dotenv\n",
    "\n",
    "load_dotenv()"
   ]
  },
  {
   "cell_type": "code",
   "execution_count": 3,
   "metadata": {},
   "outputs": [
    {
     "name": "stdout",
     "output_type": "stream",
     "text": [
      "Great! OpenAI API Key is Set!\n"
     ]
    }
   ],
   "source": [
    "import getpass\n",
    "import os\n",
    "\n",
    "# Try to get the OpenAI API key from environment variables\n",
    "OPENAI_API_KEY = os.environ.get(\"OPENAI_API_KEY\")\n",
    "\n",
    "# If the API key is not found in environment variables, prompt the user to enter it\n",
    "if not OPENAI_API_KEY:\n",
    "    print(\"OpenAI API key not found in environment variables.\")\n",
    "    OPENAI_API_KEY = getpass.getpass(\"Please enter your OpenAI API key: \")\n",
    "    os.environ[\"OPENAI_API_KEY\"] = OPENAI_API_KEY\n",
    "else:\n",
    "    print(\"Great! OpenAI API Key is Set!\")"
   ]
  },
  {
   "cell_type": "markdown",
   "metadata": {},
   "source": [
    "## Set Working Directory"
   ]
  },
  {
   "cell_type": "code",
   "execution_count": 4,
   "metadata": {},
   "outputs": [],
   "source": [
    "import os\n",
    "\n",
    "\n",
    "# Find the directory containing pyproject.toml by searching upwards from the current directory\n",
    "def find_project_root(start_dir=os.getcwd()):\n",
    "    current_dir = start_dir\n",
    "    while True:\n",
    "        if \"pyproject.toml\" in os.listdir(current_dir):\n",
    "            return current_dir\n",
    "        parent_dir = os.path.dirname(current_dir)\n",
    "        if parent_dir == current_dir:  # Reached the root directory\n",
    "            raise FileNotFoundError(\n",
    "                \"Could not find pyproject.toml in any parent directory.\"\n",
    "            )\n",
    "        current_dir = parent_dir\n",
    "\n",
    "\n",
    "# Set the working directory to the project root\n",
    "PROJECT_ROOT = find_project_root()\n",
    "os.chdir(PROJECT_ROOT)"
   ]
  },
  {
   "cell_type": "code",
   "execution_count": 5,
   "metadata": {},
   "outputs": [
    {
     "name": "stdout",
     "output_type": "stream",
     "text": [
      "Current working directory: /Users/giladrubin/python_workspace/rag_datanights\n"
     ]
    }
   ],
   "source": [
    "# Print the current working directory for confirmation\n",
    "print(\"Current working directory:\", os.getcwd())"
   ]
  },
  {
   "cell_type": "markdown",
   "metadata": {},
   "source": [
    "### Read the docs or add them to your AI IDE context"
   ]
  },
  {
   "cell_type": "markdown",
   "metadata": {},
   "source": [
    "https://docs.haystack.deepset.ai/docs/intro"
   ]
  },
  {
   "cell_type": "markdown",
   "metadata": {},
   "source": [
    "We're good to go!"
   ]
  },
  {
   "cell_type": "markdown",
   "metadata": {},
   "source": [
    "# Indexing Pipeline"
   ]
  },
  {
   "cell_type": "code",
   "execution_count": 6,
   "metadata": {},
   "outputs": [],
   "source": [
    "from src.utils import display_pipeline"
   ]
  },
  {
   "cell_type": "markdown",
   "metadata": {},
   "source": [
    "## Load PDFs"
   ]
  },
  {
   "cell_type": "markdown",
   "metadata": {},
   "source": [
    "This section handles PDF document conversion using the PyPDFToDocument component.\n",
    "\n",
    "This component transforms PDF files into Haystack `Document` objects that have `metadata` and `content` attributes. \n",
    "\n",
    "For more details, see the [PyPDFToDocument documentation](https://docs.haystack.deepset.ai/docs/pypdftodocument).\n"
   ]
  },
  {
   "cell_type": "code",
   "execution_count": 7,
   "metadata": {},
   "outputs": [],
   "source": [
    "import os\n",
    "\n",
    "filepaths = [\n",
    "    f\"data/raw/{file}\" for file in os.listdir(\"data/raw\") if file.endswith(\".pdf\")\n",
    "]"
   ]
  },
  {
   "cell_type": "code",
   "execution_count": 8,
   "metadata": {},
   "outputs": [],
   "source": [
    "indexing_pipeline = Pipeline()"
   ]
  },
  {
   "cell_type": "code",
   "execution_count": 9,
   "metadata": {},
   "outputs": [],
   "source": [
    "from haystack.components.converters import PyPDFToDocument\n",
    "\n",
    "pdf_loader = PyPDFToDocument()"
   ]
  },
  {
   "cell_type": "code",
   "execution_count": 10,
   "metadata": {},
   "outputs": [],
   "source": [
    "indexing_pipeline.add_component(\"pdf_loader\", pdf_loader)"
   ]
  },
  {
   "cell_type": "code",
   "execution_count": 11,
   "metadata": {},
   "outputs": [
    {
     "data": {
      "text/markdown": [
       "```mermaid\n",
       "%%{init: {'theme': 'base', 'themeVariables': { 'fontSize': '16px', 'fontFamily': 'arial', 'lineWidth': '2px', 'edgeLabelBackground': '#ffffff'}}}%%\n",
       "graph TD;\n",
       "    pdf_loader[\"pdf_loader<br><small><i>PyPDFToDocument</i></small>\"]\n",
       "```"
      ],
      "text/plain": [
       "<IPython.core.display.Markdown object>"
      ]
     },
     "metadata": {},
     "output_type": "display_data"
    }
   ],
   "source": [
    "display_pipeline(indexing_pipeline)\n"
   ]
  },
  {
   "cell_type": "markdown",
   "metadata": {},
   "source": [
    "Now, let's run the pipeline!"
   ]
  },
  {
   "cell_type": "code",
   "execution_count": 12,
   "metadata": {},
   "outputs": [],
   "source": [
    "res = indexing_pipeline.run({\"pdf_loader\": {\"sources\": filepaths}})"
   ]
  },
  {
   "cell_type": "code",
   "execution_count": 13,
   "metadata": {},
   "outputs": [],
   "source": [
    "docs = res[\"pdf_loader\"][\"documents\"]"
   ]
  },
  {
   "cell_type": "code",
   "execution_count": 14,
   "metadata": {},
   "outputs": [
    {
     "name": "stdout",
     "output_type": "stream",
     "text": [
      "Content: 1\n",
      "Modular RAG: Transforming RAG Systems into\n",
      "LEGO-like Reconfigurable Frameworks\n",
      "Yunfan Gao, Yun Xiong, Meng Wang, Haofen Wang\n",
      "Abstract—Retrieval-augmented Generation (RAG) has\n",
      "markedly enhanced the capabilities of Large Language Models\n",
      "(LLMs) in tackling knowledge-intensive tasks. The increasing\n",
      "de...\n"
     ]
    }
   ],
   "source": [
    "print(f\"Content: {docs[0].content[:300]}...\")"
   ]
  },
  {
   "cell_type": "code",
   "execution_count": 15,
   "metadata": {},
   "outputs": [
    {
     "name": "stdout",
     "output_type": "stream",
     "text": [
      "Metadata: {'file_path': 'modular_rag.pdf'}\n"
     ]
    }
   ],
   "source": [
    "print(f\"Metadata: {docs[0].meta}\")"
   ]
  },
  {
   "cell_type": "markdown",
   "metadata": {},
   "source": [
    "## Split Documents"
   ]
  },
  {
   "cell_type": "markdown",
   "metadata": {},
   "source": [
    "This section handles document splitting, which divides documents into smaller chunks. \n",
    "\n",
    "`DocumentSplitter` expects a list of documents as input and returns a list of documents with split texts. It splits each input document by `split_by` after `split_length` units with an overlap of `split_overlap` units. These additional parameters can be set when the component is initialized:\n",
    "\n",
    "  * `split_by` can be `\"word\"`, `\"sentence\"`, `\"passage\"` (paragraph), `\"page\"`, `\"line\"` or `\"function\"`. \n",
    "  * `split_length` is an integer indicating the chunk size, which is the number of words, sentences, or passages.\n",
    "  * `split_overlap` is an integer indicating the number of overlapping words, sentences, or passages between chunks.\n",
    "  * `split_threshold` is an integer indicating the minimum number of words, sentences, or passages that the document fragment should have. If the fragment is below the threshold, it will be attached to the previous one.\n",
    "\n",
    "A field `\"source_id\"` is added to each document's `meta` data to keep track of the original document that was split. Another meta field `\"page_number\"` is added to each document to keep track of the page it belonged to in the original document. Other metadata are copied from the original document.\n",
    "\n",
    "For more details, see the [DocumentSplitter documentation](https://docs.haystack.deepset.ai/docs/documentsplitter)."
   ]
  },
  {
   "cell_type": "code",
   "execution_count": 16,
   "metadata": {},
   "outputs": [],
   "source": [
    "from haystack.components.preprocessors import DocumentSplitter"
   ]
  },
  {
   "cell_type": "code",
   "execution_count": 17,
   "metadata": {},
   "outputs": [],
   "source": [
    "splitter = DocumentSplitter(\n",
    "    split_by=\"line\",\n",
    "    split_length=12,\n",
    "    split_overlap=3,\n",
    ")"
   ]
  },
  {
   "cell_type": "code",
   "execution_count": 18,
   "metadata": {},
   "outputs": [],
   "source": [
    "indexing_pipeline.add_component(\"splitter\", splitter)"
   ]
  },
  {
   "cell_type": "code",
   "execution_count": 19,
   "metadata": {},
   "outputs": [
    {
     "data": {
      "text/plain": [
       "<haystack.core.pipeline.pipeline.Pipeline object at 0x16828af60>\n",
       "🚅 Components\n",
       "  - pdf_loader: PyPDFToDocument\n",
       "  - splitter: DocumentSplitter\n",
       "🛤️ Connections\n",
       "  - pdf_loader.documents -> splitter.documents (List[Document])"
      ]
     },
     "execution_count": 19,
     "metadata": {},
     "output_type": "execute_result"
    }
   ],
   "source": [
    "indexing_pipeline.connect(\"pdf_loader\", \"splitter\")"
   ]
  },
  {
   "cell_type": "code",
   "execution_count": 20,
   "metadata": {},
   "outputs": [
    {
     "data": {
      "text/markdown": [
       "```mermaid\n",
       "%%{init: {'theme': 'base', 'themeVariables': { 'fontSize': '16px', 'fontFamily': 'arial', 'lineWidth': '2px', 'edgeLabelBackground': '#ffffff'}}}%%\n",
       "graph TD;\n",
       "    pdf_loader[\"pdf_loader<br><small><i>PyPDFToDocument</i></small>\"]\n",
       "    splitter[\"splitter<br><small><i>DocumentSplitter</i></small>\"]\n",
       "    pdf_loader ==> splitter\n",
       "```"
      ],
      "text/plain": [
       "<IPython.core.display.Markdown object>"
      ]
     },
     "metadata": {},
     "output_type": "display_data"
    }
   ],
   "source": [
    "display_pipeline(indexing_pipeline)"
   ]
  },
  {
   "cell_type": "code",
   "execution_count": 21,
   "metadata": {},
   "outputs": [],
   "source": [
    "res = indexing_pipeline.run({\"pdf_loader\": {\"sources\": filepaths}})\n",
    "docs = res[\"splitter\"][\"documents\"]"
   ]
  },
  {
   "cell_type": "code",
   "execution_count": 22,
   "metadata": {},
   "outputs": [
    {
     "name": "stdout",
     "output_type": "stream",
     "text": [
      "Content: LLMs and other complementary technologies, which in turn\n",
      "has amplified the intricacy of RAG systems. However, the rapid\n",
      "advancements are outpacing the foundational RAG paradigm,\n",
      "with many methods struggling to be unified under the process\n",
      "of “retrieve-then-generate”. In this context, this paper examines\n",
      "the limitations of the existing RAG paradigm and introduces\n",
      "the modular RAG framework. By decomposing complex RAG\n",
      "systems into independent modules and specialized operators, it\n",
      "facilitates a highly reconfigurable framework. Modular RAG\n",
      "transcends the traditional linear architecture, embracing a\n",
      "more advanced design that integrates routing, scheduling, and\n",
      "fusion mechanisms. Drawing on extensive research, this paper\n",
      "\n"
     ]
    }
   ],
   "source": [
    "print(f\"Content: {docs[1].content}\")"
   ]
  },
  {
   "cell_type": "code",
   "execution_count": 23,
   "metadata": {},
   "outputs": [
    {
     "name": "stdout",
     "output_type": "stream",
     "text": [
      "Metadata:\n",
      "{'_split_overlap': [{'doc_id': 'b40b48303f1c7971303fe8a12d4ffb0246f6fdc95541d7c4f0f2966ce28300ae',\n",
      "                     'range': (416, 594)},\n",
      "                    {'doc_id': '4cfecdfb41c80da4b0930be22ee7fe4405d592d1cfd14dad7c3ef6f38aaaeac1',\n",
      "                     'range': (0, 183)}],\n",
      " 'file_path': 'modular_rag.pdf',\n",
      " 'page_number': 1,\n",
      " 'source_id': 'b7efb3adbf662bf46a2176b4196e18cddce2ac7c733bea7f2264e184c7714d97',\n",
      " 'split_id': 1,\n",
      " 'split_idx_start': 416}\n"
     ]
    }
   ],
   "source": [
    "from pprint import pprint\n",
    "\n",
    "print(\"Metadata:\")\n",
    "pprint(docs[1].meta)"
   ]
  },
  {
   "cell_type": "markdown",
   "metadata": {},
   "source": [
    "## Embed Chunks"
   ]
  },
  {
   "cell_type": "code",
   "execution_count": 24,
   "metadata": {},
   "outputs": [],
   "source": [
    "embed_model = \"sentence-transformers/all-MiniLM-L6-v2\""
   ]
  },
  {
   "cell_type": "code",
   "execution_count": 25,
   "metadata": {},
   "outputs": [],
   "source": [
    "doc_embedder = SentenceTransformersDocumentEmbedder(model=embed_model, batch_size=16)\n",
    "indexing_pipeline.add_component(\"doc_embedder\", doc_embedder)"
   ]
  },
  {
   "cell_type": "code",
   "execution_count": 26,
   "metadata": {},
   "outputs": [
    {
     "data": {
      "text/plain": [
       "<haystack.core.pipeline.pipeline.Pipeline object at 0x16828af60>\n",
       "🚅 Components\n",
       "  - pdf_loader: PyPDFToDocument\n",
       "  - splitter: DocumentSplitter\n",
       "  - doc_embedder: SentenceTransformersDocumentEmbedder\n",
       "🛤️ Connections\n",
       "  - pdf_loader.documents -> splitter.documents (List[Document])\n",
       "  - splitter.documents -> doc_embedder.documents (List[Document])"
      ]
     },
     "execution_count": 26,
     "metadata": {},
     "output_type": "execute_result"
    }
   ],
   "source": [
    "indexing_pipeline.connect(\"splitter\", \"doc_embedder\")"
   ]
  },
  {
   "cell_type": "code",
   "execution_count": 27,
   "metadata": {},
   "outputs": [
    {
     "data": {
      "text/markdown": [
       "```mermaid\n",
       "%%{init: {'theme': 'base', 'themeVariables': { 'fontSize': '16px', 'fontFamily': 'arial', 'lineWidth': '2px', 'edgeLabelBackground': '#ffffff'}}}%%\n",
       "graph TD;\n",
       "    pdf_loader[\"pdf_loader<br><small><i>PyPDFToDocument</i></small>\"]\n",
       "    splitter[\"splitter<br><small><i>DocumentSplitter</i></small>\"]\n",
       "    doc_embedder[\"doc_embedder<br><small><i>SentenceTransformersDocumentEmbedder</i></small>\"]\n",
       "    pdf_loader ==> splitter\n",
       "    splitter ==> doc_embedder\n",
       "```"
      ],
      "text/plain": [
       "<IPython.core.display.Markdown object>"
      ]
     },
     "metadata": {},
     "output_type": "display_data"
    }
   ],
   "source": [
    "display_pipeline(indexing_pipeline)"
   ]
  },
  {
   "cell_type": "code",
   "execution_count": 28,
   "metadata": {},
   "outputs": [],
   "source": [
    "indexing_pipeline.warm_up()"
   ]
  },
  {
   "cell_type": "code",
   "execution_count": 29,
   "metadata": {},
   "outputs": [
    {
     "data": {
      "application/vnd.jupyter.widget-view+json": {
       "model_id": "d8b75577cad54934aa1d7dcd6642481a",
       "version_major": 2,
       "version_minor": 0
      },
      "text/plain": [
       "Batches:   0%|          | 0/12 [00:00<?, ?it/s]"
      ]
     },
     "metadata": {},
     "output_type": "display_data"
    }
   ],
   "source": [
    "res = indexing_pipeline.run({\"pdf_loader\": {\"sources\": filepaths}})"
   ]
  },
  {
   "cell_type": "code",
   "execution_count": 30,
   "metadata": {},
   "outputs": [],
   "source": [
    "docs = res[\"doc_embedder\"][\"documents\"]"
   ]
  },
  {
   "cell_type": "code",
   "execution_count": 31,
   "metadata": {},
   "outputs": [
    {
     "data": {
      "text/plain": [
       "[-0.08337507396936417,\n",
       " -0.025299422442913055,\n",
       " 0.02456732466816902,\n",
       " 0.01030047982931137,\n",
       " -0.05183596909046173,\n",
       " 0.061009109020233154,\n",
       " -0.011369384825229645,\n",
       " -0.017378514632582664,\n",
       " -0.0010302533628419042,\n",
       " -0.02779301069676876]"
      ]
     },
     "execution_count": 31,
     "metadata": {},
     "output_type": "execute_result"
    }
   ],
   "source": [
    "docs[0].embedding[:10]"
   ]
  },
  {
   "cell_type": "markdown",
   "metadata": {},
   "source": [
    "## Visualize Embeddings"
   ]
  },
  {
   "cell_type": "code",
   "execution_count": 32,
   "metadata": {},
   "outputs": [],
   "source": [
    "import os\n",
    "\n",
    "os.environ[\"TOKENIZERS_PARALLELISM\"] = \"FALSE\"  # This avoids a warning"
   ]
  },
  {
   "cell_type": "code",
   "execution_count": 34,
   "metadata": {},
   "outputs": [],
   "source": [
    "from src.utils import visualize_document_embeddings"
   ]
  },
  {
   "cell_type": "code",
   "execution_count": 35,
   "metadata": {},
   "outputs": [
    {
     "data": {
      "image/png": "[encoded data removed]",
      "text/plain": [
       "<Figure size 1200x1000 with 2 Axes>"
      ]
     },
     "metadata": {},
     "output_type": "display_data"
    }
   ],
   "source": [
    "# Get the embedded documents from the previous run\n",
    "embedded_documents = res[\"doc_embedder\"][\"documents\"]\n",
    "\n",
    "# Create the visualization\n",
    "projection = visualize_document_embeddings(embedded_documents, color_by=\"page_number\")"
   ]
  },
  {
   "cell_type": "markdown",
   "metadata": {},
   "source": [
    "## Write Chunks to Document Store"
   ]
  },
  {
   "cell_type": "code",
   "execution_count": 36,
   "metadata": {},
   "outputs": [],
   "source": [
    "document_store = InMemoryDocumentStore()\n",
    "document_writer = DocumentWriter(document_store, policy=DuplicatePolicy.OVERWRITE)"
   ]
  },
  {
   "cell_type": "code",
   "execution_count": 37,
   "metadata": {},
   "outputs": [
    {
     "data": {
      "text/plain": [
       "<haystack.core.pipeline.pipeline.Pipeline object at 0x16828af60>\n",
       "🚅 Components\n",
       "  - pdf_loader: PyPDFToDocument\n",
       "  - splitter: DocumentSplitter\n",
       "  - doc_embedder: SentenceTransformersDocumentEmbedder\n",
       "  - document_writer: DocumentWriter\n",
       "🛤️ Connections\n",
       "  - pdf_loader.documents -> splitter.documents (List[Document])\n",
       "  - splitter.documents -> doc_embedder.documents (List[Document])\n",
       "  - doc_embedder.documents -> document_writer.documents (List[Document])"
      ]
     },
     "execution_count": 37,
     "metadata": {},
     "output_type": "execute_result"
    }
   ],
   "source": [
    "indexing_pipeline.add_component(\"document_writer\", document_writer)\n",
    "indexing_pipeline.connect(\"doc_embedder\", \"document_writer\")"
   ]
  },
  {
   "cell_type": "code",
   "execution_count": 38,
   "metadata": {},
   "outputs": [
    {
     "data": {
      "text/markdown": [
       "```mermaid\n",
       "%%{init: {'theme': 'base', 'themeVariables': { 'fontSize': '16px', 'fontFamily': 'arial', 'lineWidth': '2px', 'edgeLabelBackground': '#ffffff'}}}%%\n",
       "graph TD;\n",
       "    pdf_loader[\"pdf_loader<br><small><i>PyPDFToDocument</i></small>\"]\n",
       "    splitter[\"splitter<br><small><i>DocumentSplitter</i></small>\"]\n",
       "    doc_embedder[\"doc_embedder<br><small><i>SentenceTransformersDocumentEmbedder</i></small>\"]\n",
       "    document_writer[\"document_writer<br><small><i>DocumentWriter</i></small>\"]\n",
       "    pdf_loader ==> splitter\n",
       "    splitter ==> doc_embedder\n",
       "    doc_embedder ==> document_writer\n",
       "```"
      ],
      "text/plain": [
       "<IPython.core.display.Markdown object>"
      ]
     },
     "metadata": {},
     "output_type": "display_data"
    }
   ],
   "source": [
    "display_pipeline(indexing_pipeline)"
   ]
  },
  {
   "cell_type": "code",
   "execution_count": 39,
   "metadata": {},
   "outputs": [
    {
     "data": {
      "application/vnd.jupyter.widget-view+json": {
       "model_id": "382e2d330b8d4fd5be977d783fe5aa97",
       "version_major": 2,
       "version_minor": 0
      },
      "text/plain": [
       "Batches:   0%|          | 0/12 [00:00<?, ?it/s]"
      ]
     },
     "metadata": {},
     "output_type": "display_data"
    },
    {
     "data": {
      "text/plain": [
       "{'document_writer': {'documents_written': 187}}"
      ]
     },
     "execution_count": 39,
     "metadata": {},
     "output_type": "execute_result"
    }
   ],
   "source": [
    "indexing_pipeline.run({\"pdf_loader\": {\"sources\": filepaths}})"
   ]
  },
  {
   "cell_type": "code",
   "execution_count": 40,
   "metadata": {},
   "outputs": [
    {
     "data": {
      "text/plain": [
       "187"
      ]
     },
     "execution_count": 40,
     "metadata": {},
     "output_type": "execute_result"
    }
   ],
   "source": [
    "document_store.count_documents()"
   ]
  },
  {
   "cell_type": "markdown",
   "metadata": {},
   "source": [
    "# Retrieval + Generation Pipeline\n"
   ]
  },
  {
   "cell_type": "code",
   "execution_count": 41,
   "metadata": {},
   "outputs": [],
   "source": [
    "rag_pipeline = Pipeline()"
   ]
  },
  {
   "cell_type": "markdown",
   "metadata": {},
   "source": [
    "## Embed Query\n"
   ]
  },
  {
   "cell_type": "code",
   "execution_count": 42,
   "metadata": {},
   "outputs": [],
   "source": [
    "query_embedder = SentenceTransformersTextEmbedder(model=embed_model)"
   ]
  },
  {
   "cell_type": "code",
   "execution_count": 43,
   "metadata": {},
   "outputs": [],
   "source": [
    "rag_pipeline.add_component(\"query_embedder\", query_embedder)"
   ]
  },
  {
   "cell_type": "code",
   "execution_count": 44,
   "metadata": {},
   "outputs": [
    {
     "data": {
      "text/markdown": [
       "```mermaid\n",
       "%%{init: {'theme': 'base', 'themeVariables': { 'fontSize': '16px', 'fontFamily': 'arial', 'lineWidth': '2px', 'edgeLabelBackground': '#ffffff'}}}%%\n",
       "graph TD;\n",
       "    query_embedder[\"query_embedder<br><small><i>SentenceTransformersTextEmbedder</i></small>\"]\n",
       "```"
      ],
      "text/plain": [
       "<IPython.core.display.Markdown object>"
      ]
     },
     "metadata": {},
     "output_type": "display_data"
    }
   ],
   "source": [
    "display_pipeline(rag_pipeline)"
   ]
  },
  {
   "cell_type": "markdown",
   "metadata": {},
   "source": [
    "## Define Retriever\n"
   ]
  },
  {
   "cell_type": "code",
   "execution_count": 45,
   "metadata": {},
   "outputs": [],
   "source": [
    "retriever = InMemoryEmbeddingRetriever(document_store, top_k=10)"
   ]
  },
  {
   "cell_type": "code",
   "execution_count": 46,
   "metadata": {},
   "outputs": [],
   "source": [
    "rag_pipeline.add_component(\"retriever\", retriever)"
   ]
  },
  {
   "cell_type": "code",
   "execution_count": 47,
   "metadata": {},
   "outputs": [
    {
     "data": {
      "text/plain": [
       "<haystack.core.pipeline.pipeline.Pipeline object at 0x16f937050>\n",
       "🚅 Components\n",
       "  - query_embedder: SentenceTransformersTextEmbedder\n",
       "  - retriever: InMemoryEmbeddingRetriever\n",
       "🛤️ Connections\n",
       "  - query_embedder.embedding -> retriever.query_embedding (List[float])"
      ]
     },
     "execution_count": 47,
     "metadata": {},
     "output_type": "execute_result"
    }
   ],
   "source": [
    "rag_pipeline.connect(\"query_embedder.embedding\", \"retriever.query_embedding\")"
   ]
  },
  {
   "cell_type": "code",
   "execution_count": 48,
   "metadata": {},
   "outputs": [
    {
     "data": {
      "text/markdown": [
       "```mermaid\n",
       "%%{init: {'theme': 'base', 'themeVariables': { 'fontSize': '16px', 'fontFamily': 'arial', 'lineWidth': '2px', 'edgeLabelBackground': '#ffffff'}}}%%\n",
       "graph TD;\n",
       "    query_embedder[\"query_embedder<br><small><i>SentenceTransformersTextEmbedder</i></small>\"]\n",
       "    retriever[\"retriever<br><small><i>InMemoryEmbeddingRetriever</i></small>\"]\n",
       "    query_embedder ==> retriever\n",
       "```"
      ],
      "text/plain": [
       "<IPython.core.display.Markdown object>"
      ]
     },
     "metadata": {},
     "output_type": "display_data"
    }
   ],
   "source": [
    "display_pipeline(rag_pipeline)"
   ]
  },
  {
   "cell_type": "markdown",
   "metadata": {},
   "source": [
    "## LLM Generation"
   ]
  },
  {
   "cell_type": "code",
   "execution_count": 49,
   "metadata": {},
   "outputs": [],
   "source": [
    "template = \"\"\"\n",
    "Given the following information, answer the question.\n",
    "Please answer using direct phrases and sentences from the context as possible.\n",
    "\n",
    "Context:\n",
    "{% for document in documents %}\n",
    "    This is the metadata of the document:\n",
    "    {{ document.meta }}\n",
    "    ================================\n",
    "    This is the content of the document:\n",
    "    {{ document.content }}\n",
    "{% endfor %}\n",
    "\n",
    "Question: {{question}}\n",
    "Answer:\n",
    "\"\"\""
   ]
  },
  {
   "cell_type": "code",
   "execution_count": 50,
   "metadata": {},
   "outputs": [],
   "source": [
    "prompt_builder = PromptBuilder(template=template)"
   ]
  },
  {
   "cell_type": "code",
   "execution_count": 51,
   "metadata": {},
   "outputs": [],
   "source": [
    "rag_pipeline.add_component(\"prompt_builder\", prompt_builder)"
   ]
  },
  {
   "cell_type": "code",
   "execution_count": 52,
   "metadata": {},
   "outputs": [],
   "source": [
    "generator = OpenAIGenerator(model=\"gpt-4o-mini\")\n",
    "rag_pipeline.add_component(\"llm\", generator)"
   ]
  },
  {
   "cell_type": "code",
   "execution_count": 53,
   "metadata": {},
   "outputs": [
    {
     "data": {
      "text/plain": [
       "<haystack.core.pipeline.pipeline.Pipeline object at 0x16f937050>\n",
       "🚅 Components\n",
       "  - query_embedder: SentenceTransformersTextEmbedder\n",
       "  - retriever: InMemoryEmbeddingRetriever\n",
       "  - prompt_builder: PromptBuilder\n",
       "  - llm: OpenAIGenerator\n",
       "🛤️ Connections\n",
       "  - query_embedder.embedding -> retriever.query_embedding (List[float])\n",
       "  - retriever.documents -> prompt_builder.documents (List[Document])\n",
       "  - prompt_builder.prompt -> llm.prompt (str)"
      ]
     },
     "execution_count": 53,
     "metadata": {},
     "output_type": "execute_result"
    }
   ],
   "source": [
    "rag_pipeline.connect(\"retriever\", \"prompt_builder.documents\")\n",
    "rag_pipeline.connect(\"prompt_builder\", \"llm\")"
   ]
  },
  {
   "cell_type": "code",
   "execution_count": 54,
   "metadata": {},
   "outputs": [
    {
     "data": {
      "text/markdown": [
       "```mermaid\n",
       "%%{init: {'theme': 'base', 'themeVariables': { 'fontSize': '16px', 'fontFamily': 'arial', 'lineWidth': '2px', 'edgeLabelBackground': '#ffffff'}}}%%\n",
       "graph TD;\n",
       "    query_embedder[\"query_embedder<br><small><i>SentenceTransformersTextEmbedder</i></small>\"]\n",
       "    retriever[\"retriever<br><small><i>InMemoryEmbeddingRetriever</i></small>\"]\n",
       "    prompt_builder[\"prompt_builder<br><small><i>PromptBuilder</i></small>\"]\n",
       "    llm[\"llm<br><small><i>OpenAIGenerator</i></small>\"]\n",
       "    query_embedder ==> retriever\n",
       "    retriever ==> prompt_builder\n",
       "    prompt_builder ==> llm\n",
       "```"
      ],
      "text/plain": [
       "<IPython.core.display.Markdown object>"
      ]
     },
     "metadata": {},
     "output_type": "display_data"
    }
   ],
   "source": [
    "display_pipeline(rag_pipeline)"
   ]
  },
  {
   "cell_type": "markdown",
   "metadata": {},
   "source": [
    "# Query Pipeline"
   ]
  },
  {
   "cell_type": "code",
   "execution_count": 72,
   "metadata": {},
   "outputs": [
    {
     "data": {
      "application/vnd.jupyter.widget-view+json": {
       "model_id": "4cfcf822654e469fa8a3ec2e30b681cf",
       "version_major": 2,
       "version_minor": 0
      },
      "text/plain": [
       "Batches:   0%|          | 0/1 [00:00<?, ?it/s]"
      ]
     },
     "metadata": {},
     "output_type": "display_data"
    }
   ],
   "source": [
    "question = \"What is Reciprocal Rank Fusion?\"\n",
    "\n",
    "response = rag_pipeline.run(\n",
    "    {\"query_embedder\": {\"text\": question}, \"prompt_builder\": {\"question\": question}},\n",
    "    include_outputs_from=[\"retriever\", \"prompt_builder\"],\n",
    ")\n"
   ]
  },
  {
   "cell_type": "code",
   "execution_count": 73,
   "metadata": {},
   "outputs": [],
   "source": [
    "llm_response = response[\"llm\"][\"replies\"][0]"
   ]
  },
  {
   "cell_type": "code",
   "execution_count": 74,
   "metadata": {},
   "outputs": [
    {
     "name": "stdout",
     "output_type": "stream",
     "text": [
      "Reciprocal Rank Fusion (RRF) is \"an ensemble technique that synthesizes multiple\n",
      "retrieval result rankings into a cohesive, unified list.\" It \"employs a tailored\n",
      "weighted averaging approach to enhance collective predictive performance and\n",
      "ranking precision.\" The method’s strength lies in \"its dynamic weight\n",
      "assignment, which is informed by the interplay among branches.\" RRF is\n",
      "especially potent \"in scenarios characterized by model or source heterogeneity.\"\n"
     ]
    }
   ],
   "source": [
    "from src.utils import nicer_print\n",
    "\n",
    "nicer_print(llm_response)"
   ]
  },
  {
   "cell_type": "markdown",
   "metadata": {},
   "source": [
    "## Analyze Results"
   ]
  },
  {
   "cell_type": "markdown",
   "metadata": {},
   "source": [
    "#### Print the prompt"
   ]
  },
  {
   "cell_type": "code",
   "execution_count": 59,
   "metadata": {},
   "outputs": [
    {
     "name": "stdout",
     "output_type": "stream",
     "text": [
      "\n",
      "Given the following information, answer the question.\n",
      "Please answer using direct phrases and sentences from the context as possible.\n",
      "\n",
      "Context:\n",
      "\n",
      "    This is the metadata of the document:\n",
      "    {'file_path': 'modular_rag.pdf', 'source_id': 'b7efb3adbf662bf46a2176b4196e18cddce2ac7c733bea7f2264e184c7714d97', 'page_number': 9, 'split_id': 98, 'split_idx_start': 45194, '_split_overlap': [{'doc_id': 'dda63d1d57707ed9f52171434e92a01d46953c0406938e3120f721c60942e178', 'range': (514, 636)}, {'doc_id': 'fa3a58815b6afaf5a7087dea5e64192039e9cc7c94774d952ccdb89ad6a385d3', 'range': (0, 161)}]}\n",
      "    ================================\n",
      "    This is the content of the document:\n",
      "    process design. A RAG flow pattern can be defined as P =\n",
      "{Mϕ1 : {Op1} →Mϕ2 : {Op2} →. . .→ Mϕn : {Opn}}\n",
      "A. Linear Pattern\n",
      "The modules in the modular RAG system are organized in\n",
      "a linear way, and can be described as Algorithm 1.\n",
      "Plinear = {M1 → M2 → . . .→ Mn} (25)\f10\n",
      "Fig. 4. Linear RAG flow pattern. Each module is processed in a fixed\n",
      "sequential order.\n",
      "Fig. 5. RRR [24] is a typical linear flow that introduces a learnable query\n",
      "rewrite module before retrieval. This module employs reinforcement based on\n",
      "the output results of the LLM.\n",
      "The linear flow pattern is the simplest and most com-\n",
      "\n",
      "\n",
      "    This is the metadata of the document:\n",
      "    {'file_path': 'modular_rag.pdf', 'source_id': 'b7efb3adbf662bf46a2176b4196e18cddce2ac7c733bea7f2264e184c7714d97', 'page_number': 10, 'split_id': 104, 'split_idx_start': 47723, '_split_overlap': [{'doc_id': '4a7123d4578150df843da70a24f7487ecc599563c0661db941cdd8a9476344d3', 'range': (524, 743)}, {'doc_id': '403772c013e840c0263a4f8948b431a10c5412e9773dcd1ce4674cda73a86678', 'range': (0, 91)}]}\n",
      "    ================================\n",
      "    This is the content of the document:\n",
      "    various configurations to meet the general requirements of the RAG system.\n",
      "Fig. 7. Pre-retrieval branching flow pattern.Each branch performs retrieval\n",
      "and generation separately, and then they are aggregated at the end.\n",
      "through a routing module that determines the next module\n",
      "in the flow.\n",
      "Pconditional = {Mi\n",
      "fr\n",
      "− →Mj ∨ Mk} (26)\n",
      "Where\n",
      "fr\n",
      "− →represents that based on routing function fr(·), the\n",
      "flow can go to module Mj or Mk.\n",
      "\n",
      "\n",
      "    This is the metadata of the document:\n",
      "    {'file_path': 'modular_rag.pdf', 'source_id': 'b7efb3adbf662bf46a2176b4196e18cddce2ac7c733bea7f2264e184c7714d97', 'page_number': 13, 'split_id': 137, 'split_idx_start': 60412, '_split_overlap': [{'doc_id': '05269447dc8d586a2161c189c21ca16111f5de4dcdac129d7facc8717c959b35', 'range': (520, 634)}, {'doc_id': '153cc9392821a76b82a53bcf5062f8b5098d3918ea2bba496f97f8e71db37abd', 'range': (0, 118)}]}\n",
      "    ================================\n",
      "    This is the content of the document:\n",
      "    this can be further categorized into Prompt-base and Tuning-\n",
      "base approaches.\n",
      "Algorithm 7 Active RAG Flow Pattern\n",
      "Require: original query Q, documents D, maximum iterative\n",
      "times T, language model LLM, retriever R\n",
      "Ensure: final output ˆy\n",
      "1: Initialize:\n",
      "2: t ← 1 // Initialize loop step\n",
      "3: qt ← q // Initialize query for the first iteration\n",
      "4: y<1 ← ∅// Initialize previous outputs as empty\n",
      "5: while t ≤ T do\n",
      "6: Qt ← QueryTransform(y<t−1, qt−1) // Derive new\n",
      "\n",
      "\n",
      "    This is the metadata of the document:\n",
      "    {'file_path': 'modular_rag.pdf', 'source_id': 'b7efb3adbf662bf46a2176b4196e18cddce2ac7c733bea7f2264e184c7714d97', 'page_number': 3, 'split_id': 21, 'split_idx_start': 10599, '_split_overlap': [{'doc_id': '9ab3169f9d796fc601db4fcc55ce5cd4cfc21d42e766bf309c0354bdbde33c48', 'range': (461, 627)}, {'doc_id': '389f663990b6fd65b37218dea4510ce3466f48929bfd15daa1f5534eea59e361', 'range': (0, 126)}]}\n",
      "    ================================\n",
      "    This is the content of the document:\n",
      "    of modules and operators forms the RAG Flow, which\n",
      "can flexibly express current RAG methods. This paper has\n",
      "further summarized six typical flow patterns and specific\n",
      "methods have been analyzed to reveal the universality of\n",
      "modular RAG in practical scenarios.\n",
      "• The Modular RAG framework offers exceptional flexi-\n",
      "bility and extensibility. This paper delves into the new\n",
      "opportunities brought by Modular RAG and provides a\n",
      "thorough discussion on the adaptation and expansion of\n",
      "new methods in different application scenarios, offering\n",
      "guidance for future research directions and practical ex-\n",
      "ploration.\n",
      "\n",
      "\n",
      "    This is the metadata of the document:\n",
      "    {'file_path': 'modular_rag.pdf', 'source_id': 'b7efb3adbf662bf46a2176b4196e18cddce2ac7c733bea7f2264e184c7714d97', 'page_number': 10, 'split_id': 100, 'split_idx_start': 46145, '_split_overlap': [{'doc_id': 'fa3a58815b6afaf5a7087dea5e64192039e9cc7c94774d952ccdb89ad6a385d3', 'range': (520, 667)}, {'doc_id': '2a786f9caa8c15f0dce3723a7544a01eb53800c4bc4cb497ada8314a63911f4c', 'range': (0, 40)}]}\n",
      "    ================================\n",
      "    This is the content of the document:\n",
      "    Algorithm 1 Linear RAG Flow Pattern\n",
      "Require: original query q, documents D, retriever R, lan-\n",
      "guage model LLM, pre-processing function fpre, post-\n",
      "processing function fpost\n",
      "Ensure: final output ˆy\n",
      "1: Initialize:\n",
      "2: q′ ← fpre(q) // Pre-process the original query\n",
      "3: Dq′\n",
      "← R(q′, D) // Retrieve documents related to the pre-\n",
      "processed query\n",
      "4: ˆDq′\n",
      "← fpost(q′, Dq′\n",
      "\n",
      "\n",
      "    This is the metadata of the document:\n",
      "    {'file_path': 'modular_rag.pdf', 'source_id': 'b7efb3adbf662bf46a2176b4196e18cddce2ac7c733bea7f2264e184c7714d97', 'page_number': 10, 'split_id': 99, 'split_idx_start': 45625, '_split_overlap': [{'doc_id': '3323aa1f8fee8c639977c99d3f8672f1308ccfa14817792b95ba98c22ccd837c', 'range': (431, 592)}, {'doc_id': 'f3cda88708603bf65b356467434fd130e82308efde9352ec132a392165ab166f', 'range': (0, 147)}]}\n",
      "    ================================\n",
      "    This is the content of the document:\n",
      "    rewrite module before retrieval. This module employs reinforcement based on\n",
      "the output results of the LLM.\n",
      "The linear flow pattern is the simplest and most com-\n",
      "monly used pattern. As shown in Figure 4, the full linear\n",
      "RAG flow pattern mainly includes pre-retrieval processing,\n",
      "retrieval, post-retrieval processing, and generation modules.\n",
      "Plinearfull = {Mindexing → Mpre-retrieval → Mretrieval →\n",
      "Mpost-retrieval → Mgenerate}. If there are no pre-retrieval and\n",
      "post-retrieval modules, it follows the Naive RAG paradigm.\n",
      "Algorithm 1 Linear RAG Flow Pattern\n",
      "Require: original query q, documents D, retriever R, lan-\n",
      "guage model LLM, pre-processing function fpre, post-\n",
      "\n",
      "\n",
      "    This is the metadata of the document:\n",
      "    {'file_path': 'modular_rag.pdf', 'source_id': 'b7efb3adbf662bf46a2176b4196e18cddce2ac7c733bea7f2264e184c7714d97', 'page_number': 9, 'split_id': 97, 'split_idx_start': 44680, '_split_overlap': [{'doc_id': 'ac3b150c56247f7bb17b7122a2ee7bf28829ed8ba69b25ff722e9f7baf00693b', 'range': (474, 665)}, {'doc_id': '3323aa1f8fee8c639977c99d3f8672f1308ccfa14817792b95ba98c22ccd837c', 'range': (0, 122)}]}\n",
      "    ================================\n",
      "    This is the content of the document:\n",
      "    sub-functions. Through control logic, the operators can execute\n",
      "in a predetermined pipeline, while also performing conditional,\n",
      "branching or looping when necessary. In the simplest case. the\n",
      "graph is a linear chain.\n",
      "After conducting an in-depth analysis of current RAG meth-\n",
      "ods, we have identified a set of common RAG flow patterns,\n",
      "denoted as P. These patterns transcend various application\n",
      "domains and demonstrate a high level of consistency and\n",
      "reusability, revealing the prevalent structures and behaviors in\n",
      "process design. A RAG flow pattern can be defined as P =\n",
      "{Mϕ1 : {Op1} →Mϕ2 : {Op2} →. . .→ Mϕn : {Opn}}\n",
      "A. Linear Pattern\n",
      "\n",
      "\n",
      "    This is the metadata of the document:\n",
      "    {'file_path': 'modular_rag.pdf', 'source_id': 'b7efb3adbf662bf46a2176b4196e18cddce2ac7c733bea7f2264e184c7714d97', 'page_number': 10, 'split_id': 103, 'split_idx_start': 47199, '_split_overlap': [{'doc_id': 'c9db38e045c46f0952d3d274b05beff055d83d6296365938cb850c1aae1a1f45', 'range': (525, 653)}, {'doc_id': '87f6b198f09a2226452de70021b09067fec22fea92f3835e0b8a71119d7e83ea', 'range': (0, 219)}]}\n",
      "    ================================\n",
      "    This is the content of the document:\n",
      "    the final output of the LLM serving as the reward. The retriever\n",
      "utilizes a sparse encoding model, BM25.\n",
      "B. Conditional Pattern\n",
      "The RAG flow with conditional structure involves select-\n",
      "ing different RAG pipeline based on different conditions,\n",
      "as illustrated in Figure 6. A detailed definition is shown in\n",
      "Algorithm 2. Typically, pipleline selection is accomplished\n",
      "Fig. 6. The conditional flow pattern. There is a routing module that controls\n",
      "which RAG flow the query is directed to. Typically, different flows are used for\n",
      "various configurations to meet the general requirements of the RAG system.\n",
      "Fig. 7. Pre-retrieval branching flow pattern.Each branch performs retrieval\n",
      "and generation separately, and then they are aggregated at the end.\n",
      "\n",
      "\n",
      "    This is the metadata of the document:\n",
      "    {'file_path': 'modular_rag.pdf', 'source_id': 'b7efb3adbf662bf46a2176b4196e18cddce2ac7c733bea7f2264e184c7714d97', 'page_number': 11, 'split_id': 121, 'split_idx_start': 53622, '_split_overlap': [{'doc_id': '2b18af3f49fbc776554a81c167d5c40cfbe9b604d9c52dfd27642f25e5967e0e', 'range': (335, 534)}, {'doc_id': 'a5cb868b711b28bcdb86251aed4f417a4405a9f62238a27c14bc79e3b90a5aef', 'range': (0, 184)}]}\n",
      "    ================================\n",
      "    This is the content of the document:\n",
      "    for each branch. Through weighted possibility ensemble, the\n",
      "different branches are aggregated, and the final generation\f12\n",
      "Fig. 9. The RAG flow in REPLUG [55], which follows a typical post-retrieval\n",
      "branching pattern. Each retrieved chunks undergoes parallel generation, and\n",
      "then they are aggregated using a weighted probability ensemble.\n",
      "result is used to fine-tune the retriever, known as Contriever,\n",
      "through feedback.\n",
      "D. Loop Pattern\n",
      "The RAG flow with a loop structure, as an important char-\n",
      "acteristic of Modular RAG, involves interdependent retrieval\n",
      "and generation steps. It typically includes a scheduling module\n",
      "for flow control. The modular RAG system can be abstracted\n",
      "\n",
      "\n",
      "    This is the metadata of the document:\n",
      "    {'file_path': 'modular_rag.pdf', 'source_id': 'b7efb3adbf662bf46a2176b4196e18cddce2ac7c733bea7f2264e184c7714d97', 'page_number': 1, 'split_id': 2, 'split_idx_start': 957, '_split_overlap': [{'doc_id': '0b767bde330ac774bc7dad67fe9f010fd2df08c8f3451fe0830335b782a83936', 'range': (541, 724)}, {'doc_id': '5ff3658983400d6fc0059d7471699ba84975520199648bfb07dfc6923752fad8', 'range': (0, 142)}]}\n",
      "    ================================\n",
      "    This is the content of the document:\n",
      "    transcends the traditional linear architecture, embracing a\n",
      "more advanced design that integrates routing, scheduling, and\n",
      "fusion mechanisms. Drawing on extensive research, this paper\n",
      "further identifies prevalent RAG patterns—linear, conditional,\n",
      "branching, and looping—and offers a comprehensive analysis\n",
      "of their respective implementation nuances. Modular RAG\n",
      "presents innovative opportunities for the conceptualization\n",
      "and deployment of RAG systems. Finally, the paper explores\n",
      "the potential emergence of new operators and paradigms,\n",
      "establishing a solid theoretical foundation and a practical\n",
      "roadmap for the continued evolution and practical deployment\n",
      "of RAG technologies.\n",
      "\n",
      "\n",
      "\n",
      "Question: Describe the steps in Conditional RAG Flow Pattern algorithm\n",
      "Answer:\n"
     ]
    }
   ],
   "source": [
    "print(response[\"prompt_builder\"][\"prompt\"])"
   ]
  },
  {
   "cell_type": "markdown",
   "metadata": {},
   "source": [
    "## Explore the document scores"
   ]
  },
  {
   "cell_type": "code",
   "execution_count": 102,
   "metadata": {},
   "outputs": [],
   "source": [
    "retrieved_documents = response[\"retriever\"][\"documents\"]"
   ]
  },
  {
   "cell_type": "code",
   "execution_count": 103,
   "metadata": {},
   "outputs": [
    {
     "data": {
      "text/plain": [
       "0.6547455627250159"
      ]
     },
     "execution_count": 103,
     "metadata": {},
     "output_type": "execute_result"
    }
   ],
   "source": [
    "retrieved_documents[0].score"
   ]
  },
  {
   "cell_type": "code",
   "execution_count": 105,
   "metadata": {},
   "outputs": [
    {
     "data": {
      "image/png": "[encoded data removed]",
      "text/plain": [
       "<Figure size 1200x800 with 1 Axes>"
      ]
     },
     "metadata": {},
     "output_type": "display_data"
    },
    {
     "name": "stdout",
     "output_type": "stream",
     "text": [
      "\n",
      "Detailed scores by page_number:\n"
     ]
    }
   ],
   "source": [
    "from src.utils import visualize_document_scores\n",
    "\n",
    "# Visualize the scores of retrieved documents\n",
    "score_data = visualize_document_scores(\n",
    "    retrieved_documents, metadata_field=\"page_number\"\n",
    ")"
   ]
  },
  {
   "cell_type": "code",
   "execution_count": 106,
   "metadata": {},
   "outputs": [
    {
     "name": "stdout",
     "output_type": "stream",
     "text": [
      "\n",
      "Top 5 Most Relevant Documents:\n"
     ]
    },
    {
     "data": {
      "text/html": [
       "<div>\n",
       "<style scoped>\n",
       "    .dataframe tbody tr th:only-of-type {\n",
       "        vertical-align: middle;\n",
       "    }\n",
       "\n",
       "    .dataframe tbody tr th {\n",
       "        vertical-align: top;\n",
       "    }\n",
       "\n",
       "    .dataframe thead th {\n",
       "        text-align: right;\n",
       "    }\n",
       "</style>\n",
       "<table border=\"1\" class=\"dataframe\">\n",
       "  <thead>\n",
       "    <tr style=\"text-align: right;\">\n",
       "      <th></th>\n",
       "      <th>score</th>\n",
       "      <th>page_number</th>\n",
       "    </tr>\n",
       "  </thead>\n",
       "  <tbody>\n",
       "    <tr>\n",
       "      <th>1</th>\n",
       "      <td>0.601486</td>\n",
       "      <td>9</td>\n",
       "    </tr>\n",
       "    <tr>\n",
       "      <th>2</th>\n",
       "      <td>0.510023</td>\n",
       "      <td>9</td>\n",
       "    </tr>\n",
       "    <tr>\n",
       "      <th>3</th>\n",
       "      <td>0.498458</td>\n",
       "      <td>9</td>\n",
       "    </tr>\n",
       "    <tr>\n",
       "      <th>7</th>\n",
       "      <td>0.373277</td>\n",
       "      <td>9</td>\n",
       "    </tr>\n",
       "    <tr>\n",
       "      <th>8</th>\n",
       "      <td>0.372008</td>\n",
       "      <td>9</td>\n",
       "    </tr>\n",
       "  </tbody>\n",
       "</table>\n",
       "</div>"
      ],
      "text/plain": [
       "      score  page_number\n",
       "1  0.601486            9\n",
       "2  0.510023            9\n",
       "3  0.498458            9\n",
       "7  0.373277            9\n",
       "8  0.372008            9"
      ]
     },
     "metadata": {},
     "output_type": "display_data"
    }
   ],
   "source": [
    "# Display the top 5 documents with their scores and file paths\n",
    "print(\"\\nTop 5 Most Relevant Documents:\")\n",
    "display(score_data[[\"score\", \"page_number\"]].head(5))"
   ]
  }
 ],
 "metadata": {
  "accelerator": "GPU",
  "colab": {
   "gpuType": "T4",
   "provenance": []
  },
  "kernelspec": {
   "display_name": ".venv",
   "language": "python",
   "name": "python3"
  },
  "language_info": {
   "codemirror_mode": {
    "name": "ipython",
    "version": 3
   },
   "file_extension": ".py",
   "mimetype": "text/x-python",
   "name": "python",
   "nbconvert_exporter": "python",
   "pygments_lexer": "ipython3",
   "version": "3.12.3"
  },
  "widgets": {
   "application/vnd.jupyter.widget-state+json": {
    "1a820c06a7a049d8b6c9ff300284d06e": {
     "model_module": "@jupyter-widgets/controls",
     "model_module_version": "1.5.0",
     "model_name": "HTMLModel",
     "state": {
      "_dom_classes": [],
      "_model_module": "@jupyter-widgets/controls",
      "_model_module_version": "1.5.0",
      "_model_name": "HTMLModel",
      "_view_count": null,
      "_view_module": "@jupyter-widgets/controls",
      "_view_module_version": "1.5.0",
      "_view_name": "HTMLView",
      "description": "",
      "description_tooltip": null,
      "layout": "IPY_MODEL_d0cfe5dacdfc431a91b4c4741123e2d0",
      "placeholder": "​",
      "style": "IPY_MODEL_e7f1e1a14bb740d18827dd78bbe7b2e3",
      "value": "Batches: 100%"
     }
    },
    "2a3ec74419ae4a02ac0210db66133415": {
     "model_module": "@jupyter-widgets/controls",
     "model_module_version": "1.5.0",
     "model_name": "HTMLModel",
     "state": {
      "_dom_classes": [],
      "_model_module": "@jupyter-widgets/controls",
      "_model_module_version": "1.5.0",
      "_model_name": "HTMLModel",
      "_view_count": null,
      "_view_module": "@jupyter-widgets/controls",
      "_view_module_version": "1.5.0",
      "_view_name": "HTMLView",
      "description": "",
      "description_tooltip": null,
      "layout": "IPY_MODEL_91e5d4b0ede848319ef0d3b558d57d19",
      "placeholder": "​",
      "style": "IPY_MODEL_d2428c21707d43f2b6f07bfafbace8bb",
      "value": "Batches: 100%"
     }
    },
    "2bc341a780f7498ba9cd475468841bb5": {
     "model_module": "@jupyter-widgets/controls",
     "model_module_version": "1.5.0",
     "model_name": "ProgressStyleModel",
     "state": {
      "_model_module": "@jupyter-widgets/controls",
      "_model_module_version": "1.5.0",
      "_model_name": "ProgressStyleModel",
      "_view_count": null,
      "_view_module": "@jupyter-widgets/base",
      "_view_module_version": "1.2.0",
      "_view_name": "StyleView",
      "bar_color": null,
      "description_width": ""
     }
    },
    "36d341ab3a044709b5af2e8ab97559bc": {
     "model_module": "@jupyter-widgets/controls",
     "model_module_version": "1.5.0",
     "model_name": "HTMLModel",
     "state": {
      "_dom_classes": [],
      "_model_module": "@jupyter-widgets/controls",
      "_model_module_version": "1.5.0",
      "_model_name": "HTMLModel",
      "_view_count": null,
      "_view_module": "@jupyter-widgets/controls",
      "_view_module_version": "1.5.0",
      "_view_name": "HTMLView",
      "description": "",
      "description_tooltip": null,
      "layout": "IPY_MODEL_5f5cfa425cac4d37b2ea29e53b4ed900",
      "placeholder": "​",
      "style": "IPY_MODEL_3c59a82dac5c476b9a3e3132094e1702",
      "value": " 5/5 [00:01&lt;00:00,  3.35it/s]"
     }
    },
    "39a68d9a5c274e2dafaa2d1f86eea768": {
     "model_module": "@jupyter-widgets/base",
     "model_module_version": "1.2.0",
     "model_name": "LayoutModel",
     "state": {
      "_model_module": "@jupyter-widgets/base",
      "_model_module_version": "1.2.0",
      "_model_name": "LayoutModel",
      "_view_count": null,
      "_view_module": "@jupyter-widgets/base",
      "_view_module_version": "1.2.0",
      "_view_name": "LayoutView",
      "align_content": null,
      "align_items": null,
      "align_self": null,
      "border": null,
      "bottom": null,
      "display": null,
      "flex": null,
      "flex_flow": null,
      "grid_area": null,
      "grid_auto_columns": null,
      "grid_auto_flow": null,
      "grid_auto_rows": null,
      "grid_column": null,
      "grid_gap": null,
      "grid_row": null,
      "grid_template_areas": null,
      "grid_template_columns": null,
      "grid_template_rows": null,
      "height": null,
      "justify_content": null,
      "justify_items": null,
      "left": null,
      "margin": null,
      "max_height": null,
      "max_width": null,
      "min_height": null,
      "min_width": null,
      "object_fit": null,
      "object_position": null,
      "order": null,
      "overflow": null,
      "overflow_x": null,
      "overflow_y": null,
      "padding": null,
      "right": null,
      "top": null,
      "visibility": null,
      "width": null
     }
    },
    "3c59a82dac5c476b9a3e3132094e1702": {
     "model_module": "@jupyter-widgets/controls",
     "model_module_version": "1.5.0",
     "model_name": "DescriptionStyleModel",
     "state": {
      "_model_module": "@jupyter-widgets/controls",
      "_model_module_version": "1.5.0",
      "_model_name": "DescriptionStyleModel",
      "_view_count": null,
      "_view_module": "@jupyter-widgets/base",
      "_view_module_version": "1.2.0",
      "_view_name": "StyleView",
      "description_width": ""
     }
    },
    "3fda06f905b445a488efdd2dd08c0939": {
     "model_module": "@jupyter-widgets/base",
     "model_module_version": "1.2.0",
     "model_name": "LayoutModel",
     "state": {
      "_model_module": "@jupyter-widgets/base",
      "_model_module_version": "1.2.0",
      "_model_name": "LayoutModel",
      "_view_count": null,
      "_view_module": "@jupyter-widgets/base",
      "_view_module_version": "1.2.0",
      "_view_name": "LayoutView",
      "align_content": null,
      "align_items": null,
      "align_self": null,
      "border": null,
      "bottom": null,
      "display": null,
      "flex": null,
      "flex_flow": null,
      "grid_area": null,
      "grid_auto_columns": null,
      "grid_auto_flow": null,
      "grid_auto_rows": null,
      "grid_column": null,
      "grid_gap": null,
      "grid_row": null,
      "grid_template_areas": null,
      "grid_template_columns": null,
      "grid_template_rows": null,
      "height": null,
      "justify_content": null,
      "justify_items": null,
      "left": null,
      "margin": null,
      "max_height": null,
      "max_width": null,
      "min_height": null,
      "min_width": null,
      "object_fit": null,
      "object_position": null,
      "order": null,
      "overflow": null,
      "overflow_x": null,
      "overflow_y": null,
      "padding": null,
      "right": null,
      "top": null,
      "visibility": null,
      "width": null
     }
    },
    "4e6e97b6d54f4f80bb7e8b25aba8e616": {
     "model_module": "@jupyter-widgets/controls",
     "model_module_version": "1.5.0",
     "model_name": "HBoxModel",
     "state": {
      "_dom_classes": [],
      "_model_module": "@jupyter-widgets/controls",
      "_model_module_version": "1.5.0",
      "_model_name": "HBoxModel",
      "_view_count": null,
      "_view_module": "@jupyter-widgets/controls",
      "_view_module_version": "1.5.0",
      "_view_name": "HBoxView",
      "box_style": "",
      "children": [
       "IPY_MODEL_1a820c06a7a049d8b6c9ff300284d06e",
       "IPY_MODEL_58ff4e0603a74978a134f63533859be5",
       "IPY_MODEL_8bdb8bfae31d4f4cb6c3b0bf43120eed"
      ],
      "layout": "IPY_MODEL_39a68d9a5c274e2dafaa2d1f86eea768"
     }
    },
    "58ff4e0603a74978a134f63533859be5": {
     "model_module": "@jupyter-widgets/controls",
     "model_module_version": "1.5.0",
     "model_name": "FloatProgressModel",
     "state": {
      "_dom_classes": [],
      "_model_module": "@jupyter-widgets/controls",
      "_model_module_version": "1.5.0",
      "_model_name": "FloatProgressModel",
      "_view_count": null,
      "_view_module": "@jupyter-widgets/controls",
      "_view_module_version": "1.5.0",
      "_view_name": "ProgressView",
      "bar_style": "success",
      "description": "",
      "description_tooltip": null,
      "layout": "IPY_MODEL_3fda06f905b445a488efdd2dd08c0939",
      "max": 1,
      "min": 0,
      "orientation": "horizontal",
      "style": "IPY_MODEL_2bc341a780f7498ba9cd475468841bb5",
      "value": 1
     }
    },
    "5f5cfa425cac4d37b2ea29e53b4ed900": {
     "model_module": "@jupyter-widgets/base",
     "model_module_version": "1.2.0",
     "model_name": "LayoutModel",
     "state": {
      "_model_module": "@jupyter-widgets/base",
      "_model_module_version": "1.2.0",
      "_model_name": "LayoutModel",
      "_view_count": null,
      "_view_module": "@jupyter-widgets/base",
      "_view_module_version": "1.2.0",
      "_view_name": "LayoutView",
      "align_content": null,
      "align_items": null,
      "align_self": null,
      "border": null,
      "bottom": null,
      "display": null,
      "flex": null,
      "flex_flow": null,
      "grid_area": null,
      "grid_auto_columns": null,
      "grid_auto_flow": null,
      "grid_auto_rows": null,
      "grid_column": null,
      "grid_gap": null,
      "grid_row": null,
      "grid_template_areas": null,
      "grid_template_columns": null,
      "grid_template_rows": null,
      "height": null,
      "justify_content": null,
      "justify_items": null,
      "left": null,
      "margin": null,
      "max_height": null,
      "max_width": null,
      "min_height": null,
      "min_width": null,
      "object_fit": null,
      "object_position": null,
      "order": null,
      "overflow": null,
      "overflow_x": null,
      "overflow_y": null,
      "padding": null,
      "right": null,
      "top": null,
      "visibility": null,
      "width": null
     }
    },
    "6b8334e071a3438397ba6435aac69f58": {
     "model_module": "@jupyter-widgets/controls",
     "model_module_version": "1.5.0",
     "model_name": "ProgressStyleModel",
     "state": {
      "_model_module": "@jupyter-widgets/controls",
      "_model_module_version": "1.5.0",
      "_model_name": "ProgressStyleModel",
      "_view_count": null,
      "_view_module": "@jupyter-widgets/base",
      "_view_module_version": "1.2.0",
      "_view_name": "StyleView",
      "bar_color": null,
      "description_width": ""
     }
    },
    "7d482188c12d4a7886f20a65d3402c59": {
     "model_module": "@jupyter-widgets/controls",
     "model_module_version": "1.5.0",
     "model_name": "HBoxModel",
     "state": {
      "_dom_classes": [],
      "_model_module": "@jupyter-widgets/controls",
      "_model_module_version": "1.5.0",
      "_model_name": "HBoxModel",
      "_view_count": null,
      "_view_module": "@jupyter-widgets/controls",
      "_view_module_version": "1.5.0",
      "_view_name": "HBoxView",
      "box_style": "",
      "children": [
       "IPY_MODEL_2a3ec74419ae4a02ac0210db66133415",
       "IPY_MODEL_ddeff9a822404adbbc3cad97a939bc0c",
       "IPY_MODEL_36d341ab3a044709b5af2e8ab97559bc"
      ],
      "layout": "IPY_MODEL_88fc33e1ab78405e911b5eafa512c935"
     }
    },
    "7fdb2c859e454e72888709a835f7591e": {
     "model_module": "@jupyter-widgets/base",
     "model_module_version": "1.2.0",
     "model_name": "LayoutModel",
     "state": {
      "_model_module": "@jupyter-widgets/base",
      "_model_module_version": "1.2.0",
      "_model_name": "LayoutModel",
      "_view_count": null,
      "_view_module": "@jupyter-widgets/base",
      "_view_module_version": "1.2.0",
      "_view_name": "LayoutView",
      "align_content": null,
      "align_items": null,
      "align_self": null,
      "border": null,
      "bottom": null,
      "display": null,
      "flex": null,
      "flex_flow": null,
      "grid_area": null,
      "grid_auto_columns": null,
      "grid_auto_flow": null,
      "grid_auto_rows": null,
      "grid_column": null,
      "grid_gap": null,
      "grid_row": null,
      "grid_template_areas": null,
      "grid_template_columns": null,
      "grid_template_rows": null,
      "height": null,
      "justify_content": null,
      "justify_items": null,
      "left": null,
      "margin": null,
      "max_height": null,
      "max_width": null,
      "min_height": null,
      "min_width": null,
      "object_fit": null,
      "object_position": null,
      "order": null,
      "overflow": null,
      "overflow_x": null,
      "overflow_y": null,
      "padding": null,
      "right": null,
      "top": null,
      "visibility": null,
      "width": null
     }
    },
    "88fc33e1ab78405e911b5eafa512c935": {
     "model_module": "@jupyter-widgets/base",
     "model_module_version": "1.2.0",
     "model_name": "LayoutModel",
     "state": {
      "_model_module": "@jupyter-widgets/base",
      "_model_module_version": "1.2.0",
      "_model_name": "LayoutModel",
      "_view_count": null,
      "_view_module": "@jupyter-widgets/base",
      "_view_module_version": "1.2.0",
      "_view_name": "LayoutView",
      "align_content": null,
      "align_items": null,
      "align_self": null,
      "border": null,
      "bottom": null,
      "display": null,
      "flex": null,
      "flex_flow": null,
      "grid_area": null,
      "grid_auto_columns": null,
      "grid_auto_flow": null,
      "grid_auto_rows": null,
      "grid_column": null,
      "grid_gap": null,
      "grid_row": null,
      "grid_template_areas": null,
      "grid_template_columns": null,
      "grid_template_rows": null,
      "height": null,
      "justify_content": null,
      "justify_items": null,
      "left": null,
      "margin": null,
      "max_height": null,
      "max_width": null,
      "min_height": null,
      "min_width": null,
      "object_fit": null,
      "object_position": null,
      "order": null,
      "overflow": null,
      "overflow_x": null,
      "overflow_y": null,
      "padding": null,
      "right": null,
      "top": null,
      "visibility": null,
      "width": null
     }
    },
    "8bdb8bfae31d4f4cb6c3b0bf43120eed": {
     "model_module": "@jupyter-widgets/controls",
     "model_module_version": "1.5.0",
     "model_name": "HTMLModel",
     "state": {
      "_dom_classes": [],
      "_model_module": "@jupyter-widgets/controls",
      "_model_module_version": "1.5.0",
      "_model_name": "HTMLModel",
      "_view_count": null,
      "_view_module": "@jupyter-widgets/controls",
      "_view_module_version": "1.5.0",
      "_view_name": "HTMLView",
      "description": "",
      "description_tooltip": null,
      "layout": "IPY_MODEL_d7218475e23b420a8c03d00ca4ab8718",
      "placeholder": "​",
      "style": "IPY_MODEL_a694abaf765f4d1b82fa0138e59c6793",
      "value": " 1/1 [00:00&lt;00:00, 18.42it/s]"
     }
    },
    "91e5d4b0ede848319ef0d3b558d57d19": {
     "model_module": "@jupyter-widgets/base",
     "model_module_version": "1.2.0",
     "model_name": "LayoutModel",
     "state": {
      "_model_module": "@jupyter-widgets/base",
      "_model_module_version": "1.2.0",
      "_model_name": "LayoutModel",
      "_view_count": null,
      "_view_module": "@jupyter-widgets/base",
      "_view_module_version": "1.2.0",
      "_view_name": "LayoutView",
      "align_content": null,
      "align_items": null,
      "align_self": null,
      "border": null,
      "bottom": null,
      "display": null,
      "flex": null,
      "flex_flow": null,
      "grid_area": null,
      "grid_auto_columns": null,
      "grid_auto_flow": null,
      "grid_auto_rows": null,
      "grid_column": null,
      "grid_gap": null,
      "grid_row": null,
      "grid_template_areas": null,
      "grid_template_columns": null,
      "grid_template_rows": null,
      "height": null,
      "justify_content": null,
      "justify_items": null,
      "left": null,
      "margin": null,
      "max_height": null,
      "max_width": null,
      "min_height": null,
      "min_width": null,
      "object_fit": null,
      "object_position": null,
      "order": null,
      "overflow": null,
      "overflow_x": null,
      "overflow_y": null,
      "padding": null,
      "right": null,
      "top": null,
      "visibility": null,
      "width": null
     }
    },
    "a694abaf765f4d1b82fa0138e59c6793": {
     "model_module": "@jupyter-widgets/controls",
     "model_module_version": "1.5.0",
     "model_name": "DescriptionStyleModel",
     "state": {
      "_model_module": "@jupyter-widgets/controls",
      "_model_module_version": "1.5.0",
      "_model_name": "DescriptionStyleModel",
      "_view_count": null,
      "_view_module": "@jupyter-widgets/base",
      "_view_module_version": "1.2.0",
      "_view_name": "StyleView",
      "description_width": ""
     }
    },
    "d0cfe5dacdfc431a91b4c4741123e2d0": {
     "model_module": "@jupyter-widgets/base",
     "model_module_version": "1.2.0",
     "model_name": "LayoutModel",
     "state": {
      "_model_module": "@jupyter-widgets/base",
      "_model_module_version": "1.2.0",
      "_model_name": "LayoutModel",
      "_view_count": null,
      "_view_module": "@jupyter-widgets/base",
      "_view_module_version": "1.2.0",
      "_view_name": "LayoutView",
      "align_content": null,
      "align_items": null,
      "align_self": null,
      "border": null,
      "bottom": null,
      "display": null,
      "flex": null,
      "flex_flow": null,
      "grid_area": null,
      "grid_auto_columns": null,
      "grid_auto_flow": null,
      "grid_auto_rows": null,
      "grid_column": null,
      "grid_gap": null,
      "grid_row": null,
      "grid_template_areas": null,
      "grid_template_columns": null,
      "grid_template_rows": null,
      "height": null,
      "justify_content": null,
      "justify_items": null,
      "left": null,
      "margin": null,
      "max_height": null,
      "max_width": null,
      "min_height": null,
      "min_width": null,
      "object_fit": null,
      "object_position": null,
      "order": null,
      "overflow": null,
      "overflow_x": null,
      "overflow_y": null,
      "padding": null,
      "right": null,
      "top": null,
      "visibility": null,
      "width": null
     }
    },
    "d2428c21707d43f2b6f07bfafbace8bb": {
     "model_module": "@jupyter-widgets/controls",
     "model_module_version": "1.5.0",
     "model_name": "DescriptionStyleModel",
     "state": {
      "_model_module": "@jupyter-widgets/controls",
      "_model_module_version": "1.5.0",
      "_model_name": "DescriptionStyleModel",
      "_view_count": null,
      "_view_module": "@jupyter-widgets/base",
      "_view_module_version": "1.2.0",
      "_view_name": "StyleView",
      "description_width": ""
     }
    },
    "d7218475e23b420a8c03d00ca4ab8718": {
     "model_module": "@jupyter-widgets/base",
     "model_module_version": "1.2.0",
     "model_name": "LayoutModel",
     "state": {
      "_model_module": "@jupyter-widgets/base",
      "_model_module_version": "1.2.0",
      "_model_name": "LayoutModel",
      "_view_count": null,
      "_view_module": "@jupyter-widgets/base",
      "_view_module_version": "1.2.0",
      "_view_name": "LayoutView",
      "align_content": null,
      "align_items": null,
      "align_self": null,
      "border": null,
      "bottom": null,
      "display": null,
      "flex": null,
      "flex_flow": null,
      "grid_area": null,
      "grid_auto_columns": null,
      "grid_auto_flow": null,
      "grid_auto_rows": null,
      "grid_column": null,
      "grid_gap": null,
      "grid_row": null,
      "grid_template_areas": null,
      "grid_template_columns": null,
      "grid_template_rows": null,
      "height": null,
      "justify_content": null,
      "justify_items": null,
      "left": null,
      "margin": null,
      "max_height": null,
      "max_width": null,
      "min_height": null,
      "min_width": null,
      "object_fit": null,
      "object_position": null,
      "order": null,
      "overflow": null,
      "overflow_x": null,
      "overflow_y": null,
      "padding": null,
      "right": null,
      "top": null,
      "visibility": null,
      "width": null
     }
    },
    "ddeff9a822404adbbc3cad97a939bc0c": {
     "model_module": "@jupyter-widgets/controls",
     "model_module_version": "1.5.0",
     "model_name": "FloatProgressModel",
     "state": {
      "_dom_classes": [],
      "_model_module": "@jupyter-widgets/controls",
      "_model_module_version": "1.5.0",
      "_model_name": "FloatProgressModel",
      "_view_count": null,
      "_view_module": "@jupyter-widgets/controls",
      "_view_module_version": "1.5.0",
      "_view_name": "ProgressView",
      "bar_style": "success",
      "description": "",
      "description_tooltip": null,
      "layout": "IPY_MODEL_7fdb2c859e454e72888709a835f7591e",
      "max": 5,
      "min": 0,
      "orientation": "horizontal",
      "style": "IPY_MODEL_6b8334e071a3438397ba6435aac69f58",
      "value": 5
     }
    },
    "e7f1e1a14bb740d18827dd78bbe7b2e3": {
     "model_module": "@jupyter-widgets/controls",
     "model_module_version": "1.5.0",
     "model_name": "DescriptionStyleModel",
     "state": {
      "_model_module": "@jupyter-widgets/controls",
      "_model_module_version": "1.5.0",
      "_model_name": "DescriptionStyleModel",
      "_view_count": null,
      "_view_module": "@jupyter-widgets/base",
      "_view_module_version": "1.2.0",
      "_view_name": "StyleView",
      "description_width": ""
     }
    }
   }
  }
 },
 "nbformat": 4,
 "nbformat_minor": 4
}
